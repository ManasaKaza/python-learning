{
 "cells": [
  {
   "cell_type": "code",
   "execution_count": 47,
   "id": "0134bf1e",
   "metadata": {},
   "outputs": [],
   "source": [
    "import numpy as np\n",
    "import pandas as pd\n",
    "import plotly.offline as po\n",
    "import cufflinks as cf"
   ]
  },
  {
   "cell_type": "code",
   "execution_count": 48,
   "id": "af2c2568",
   "metadata": {},
   "outputs": [
    {
     "data": {
      "text/html": [
       "        <script type=\"text/javascript\">\n",
       "        window.PlotlyConfig = {MathJaxConfig: 'local'};\n",
       "        if (window.MathJax && window.MathJax.Hub && window.MathJax.Hub.Config) {window.MathJax.Hub.Config({SVG: {font: \"STIX-Web\"}});}\n",
       "        if (typeof require !== 'undefined') {\n",
       "        require.undef(\"plotly\");\n",
       "        requirejs.config({\n",
       "            paths: {\n",
       "                'plotly': ['https://cdn.plot.ly/plotly-2.12.1.min']\n",
       "            }\n",
       "        });\n",
       "        require(['plotly'], function(Plotly) {\n",
       "            window._Plotly = Plotly;\n",
       "        });\n",
       "        }\n",
       "        </script>\n",
       "        "
      ]
     },
     "metadata": {},
     "output_type": "display_data"
    },
    {
     "data": {
      "text/html": [
       "        <script type=\"text/javascript\">\n",
       "        window.PlotlyConfig = {MathJaxConfig: 'local'};\n",
       "        if (window.MathJax && window.MathJax.Hub && window.MathJax.Hub.Config) {window.MathJax.Hub.Config({SVG: {font: \"STIX-Web\"}});}\n",
       "        if (typeof require !== 'undefined') {\n",
       "        require.undef(\"plotly\");\n",
       "        requirejs.config({\n",
       "            paths: {\n",
       "                'plotly': ['https://cdn.plot.ly/plotly-2.12.1.min']\n",
       "            }\n",
       "        });\n",
       "        require(['plotly'], function(Plotly) {\n",
       "            window._Plotly = Plotly;\n",
       "        });\n",
       "        }\n",
       "        </script>\n",
       "        "
      ]
     },
     "metadata": {},
     "output_type": "display_data"
    }
   ],
   "source": [
    "po.init_notebook_mode(connected = True)\n",
    "cf.go_offline()"
   ]
  },
  {
   "cell_type": "code",
   "execution_count": 49,
   "id": "790a056b",
   "metadata": {},
   "outputs": [],
   "source": [
    "def createdata(data):\n",
    "    if data == 1:\n",
    "        df = pd.DataFrame(np.random.rand(100, 5), columns=['A', 'B', 'C', 'D', 'E'])\n",
    "    elif data == 2:\n",
    "        columns = input('Enter column names separated by space: ').split()\n",
    "        data_rows = []\n",
    "        for _ in range(4):\n",
    "            data_rows.append([int(val) for val in input(f'Enter values for row {_ + 1}: ').split()])\n",
    "        df = pd.DataFrame(data_rows, columns=columns)\n",
    "    elif data == 3:\n",
    "        file = input('Enter the file name: ')\n",
    "        df = pd.read_csv(file)\n",
    "    else:\n",
    "        print('DataFrame creation failed. Please enter a value between 1 to 3 and try again.')\n",
    "        return None\n",
    "    return df\n"
   ]
  },
  {
   "cell_type": "code",
   "execution_count": 50,
   "id": "85ba4bfb",
   "metadata": {},
   "outputs": [],
   "source": [
    "def plotter(plot):\n",
    "    plot_types = {\n",
    "        1: 'scatter',\n",
    "        2: 'scatter',\n",
    "        3: 'bar',\n",
    "        4: 'hist',\n",
    "        5: 'box',\n",
    "        6: 'surface'\n",
    "    }\n",
    "\n",
    "    if plot in plot_types:\n",
    "        finalplot = df1.iplot(kind=plot_types[plot])\n",
    "        if plot == 2:\n",
    "            finalplot = df1.iplot(mode='markers', symbol='x', colorscale='paired')\n",
    "    else:\n",
    "        finalplot = print('Select only between 1 to 6')\n",
    "\n",
    "    return finalplot\n"
   ]
  },
  {
   "cell_type": "code",
   "execution_count": 51,
   "id": "61ba7a76",
   "metadata": {},
   "outputs": [],
   "source": [
    "def plotter2(plot):\n",
    "    col = int(input('Enter the number of columns you want to plot by selecting only 1, 2, or 3: '))\n",
    "    \n",
    "    if col not in [1, 2, 3]:\n",
    "        return print('Please enter only 1, 2, or 3')\n",
    "\n",
    "    columns = [input(f'Enter column {i + 1} you want to plot by selecting any column from dataframe head: ') for i in range(col)]\n",
    "\n",
    "    if col == 1:\n",
    "        if plot in range(1, 8):\n",
    "            finalplot = df1[columns[0]].iplot(kind=plot_mapping[plot])\n",
    "        else:\n",
    "            finalplot = print('Select only between 1 to 7')\n",
    "\n",
    "    elif col == 2:\n",
    "        if plot in range(1, 8):\n",
    "            if plot == 7:\n",
    "                size = input('Please enter the size column for bubble plot: ')\n",
    "                finalplot = df1.iplot(kind='bubble', x=columns[0], y=columns[1], size=size)\n",
    "            else:\n",
    "                finalplot = df1[columns].iplot(kind=plot_mapping[plot])\n",
    "        else:\n",
    "            finalplot = print('Select only between 1 to 7')\n",
    "\n",
    "    elif col == 3:\n",
    "        if plot in range(1, 8):\n",
    "            if plot == 7:\n",
    "                size = input('Please enter the size column for bubble plot: ')\n",
    "                finalplot = df1.iplot(kind='bubble', x=columns[0], y=columns[1], z=columns[2], size=size)\n",
    "            else:\n",
    "                finalplot = df1[columns].iplot(kind=plot_mapping[plot])\n",
    "        else:\n",
    "            finalplot = print('Select only between 1 to 7')\n",
    "\n",
    "    return finalplot\n",
    "\n",
    "# Dictionary to map plot options to plot types\n",
    "plot_mapping = {1: 'scatter', 2: 'scatter', 3: 'bar', 4: 'hist', 5: 'box', 6: 'surface', 7: 'bubble'}\n"
   ]
  },
  {
   "cell_type": "code",
   "execution_count": 52,
   "id": "d3255af7",
   "metadata": {},
   "outputs": [],
   "source": [
    "def main(cat):\n",
    "    if cat == 1:\n",
    "        print_menu(['Line plot', 'Scatter plot', 'Bar plot', 'Histogram', 'Box plot', 'Surface plot'])\n",
    "        plot = int(input('Select the type of plot (1 to 6): '))\n",
    "        output = plotter(plot) if 1 <= plot <= 6 else print('Select only between 1 to 6')\n",
    "\n",
    "    elif cat == 2:\n",
    "        print_menu(['Line plot', 'Scatter plot', 'Bar plot', 'Histogram', 'Box plot', 'Surface plot', 'Bubble plot'])\n",
    "        plot = int(input('Select the type of plot (1 to 7): '))\n",
    "        output = plotter2(plot) if 1 <= plot <= 7 else print('Select only between 1 to 7')\n",
    "\n",
    "    else:\n",
    "        print('Please enter 1 or 2 and try again')\n",
    "\n",
    "def print_menu(options):\n",
    "    for i, option in enumerate(options, start=1):\n",
    "        print(f'{i}. {option}')\n",
    "\n",
    "# Example usage:\n",
    "# main(1)  # For category 1\n",
    "# main(2)  # For category 2\n"
   ]
  },
  {
   "cell_type": "code",
   "execution_count": 53,
   "id": "56487e63",
   "metadata": {},
   "outputs": [
    {
     "name": "stdout",
     "output_type": "stream",
     "text": [
      "Select the type of data you need to plot(By writing 1,2 or 3)\n",
      "1.Random data with 100 rows and 5 columns\n",
      "2.Customize dataframe with 5 columns and. 4 rows\n",
      "3.Upload csv/json/txt file\n",
      "2\n",
      "Enter column names separated by space: q f c e w\n",
      "Enter values for row 1: 1 2 3 6 7\n",
      "Enter values for row 2: 2 45 7 8 2\n",
      "Enter values for row 3: 1 2 4 6 7 \n",
      "Enter values for row 4: 1 2 4 5 \n"
     ]
    }
   ],
   "source": [
    "print('Select the type of data you need to plot(By writing 1,2 or 3)')\n",
    "print('1.Random data with 100 rows and 5 columns')\n",
    "print('2.Customize dataframe with 5 columns and. 4 rows')\n",
    "print('3.Upload csv/json/txt file')\n",
    "data = int(input())\n",
    "df1 = createdata(data)"
   ]
  },
  {
   "cell_type": "code",
   "execution_count": 54,
   "id": "affef9d7",
   "metadata": {},
   "outputs": [
    {
     "name": "stdout",
     "output_type": "stream",
     "text": [
      "Your DataFrame head is given below check the columns to plot using cufflinks\n"
     ]
    },
    {
     "data": {
      "text/html": [
       "<div>\n",
       "<style scoped>\n",
       "    .dataframe tbody tr th:only-of-type {\n",
       "        vertical-align: middle;\n",
       "    }\n",
       "\n",
       "    .dataframe tbody tr th {\n",
       "        vertical-align: top;\n",
       "    }\n",
       "\n",
       "    .dataframe thead th {\n",
       "        text-align: right;\n",
       "    }\n",
       "</style>\n",
       "<table border=\"1\" class=\"dataframe\">\n",
       "  <thead>\n",
       "    <tr style=\"text-align: right;\">\n",
       "      <th></th>\n",
       "      <th>q</th>\n",
       "      <th>f</th>\n",
       "      <th>c</th>\n",
       "      <th>e</th>\n",
       "      <th>w</th>\n",
       "    </tr>\n",
       "  </thead>\n",
       "  <tbody>\n",
       "    <tr>\n",
       "      <th>0</th>\n",
       "      <td>1</td>\n",
       "      <td>2</td>\n",
       "      <td>3</td>\n",
       "      <td>6</td>\n",
       "      <td>7.0</td>\n",
       "    </tr>\n",
       "    <tr>\n",
       "      <th>1</th>\n",
       "      <td>2</td>\n",
       "      <td>45</td>\n",
       "      <td>7</td>\n",
       "      <td>8</td>\n",
       "      <td>2.0</td>\n",
       "    </tr>\n",
       "    <tr>\n",
       "      <th>2</th>\n",
       "      <td>1</td>\n",
       "      <td>2</td>\n",
       "      <td>4</td>\n",
       "      <td>6</td>\n",
       "      <td>7.0</td>\n",
       "    </tr>\n",
       "    <tr>\n",
       "      <th>3</th>\n",
       "      <td>1</td>\n",
       "      <td>2</td>\n",
       "      <td>4</td>\n",
       "      <td>5</td>\n",
       "      <td>NaN</td>\n",
       "    </tr>\n",
       "  </tbody>\n",
       "</table>\n",
       "</div>"
      ],
      "text/plain": [
       "   q   f  c  e    w\n",
       "0  1   2  3  6  7.0\n",
       "1  2  45  7  8  2.0\n",
       "2  1   2  4  6  7.0\n",
       "3  1   2  4  5  NaN"
      ]
     },
     "execution_count": 54,
     "metadata": {},
     "output_type": "execute_result"
    }
   ],
   "source": [
    "print('Your DataFrame head is given below check the columns to plot using cufflinks')\n",
    "df1.head()"
   ]
  },
  {
   "cell_type": "code",
   "execution_count": 55,
   "id": "b17d97f4",
   "metadata": {},
   "outputs": [
    {
     "name": "stdout",
     "output_type": "stream",
     "text": [
      "What kind of plot you need , the complete data plot or columns plot\n",
      "Press 1 for plotting all columns or press 2 for specifying columns to plot6\n"
     ]
    }
   ],
   "source": [
    "print('What kind of plot you need , the complete data plot or columns plot')\n",
    "cat = input('Press 1 for plotting all columns or press 2 for specifying columns to plot')\n",
    "cat = int(cat)"
   ]
  },
  {
   "cell_type": "code",
   "execution_count": 56,
   "id": "38e9f101",
   "metadata": {},
   "outputs": [
    {
     "name": "stdout",
     "output_type": "stream",
     "text": [
      "Please enter 1 or 2 and try again\n"
     ]
    }
   ],
   "source": [
    "main(cat)"
   ]
  },
  {
   "cell_type": "code",
   "execution_count": null,
   "id": "32c52365",
   "metadata": {},
   "outputs": [],
   "source": []
  },
  {
   "cell_type": "code",
   "execution_count": null,
   "id": "3d9ed1df",
   "metadata": {},
   "outputs": [],
   "source": []
  },
  {
   "cell_type": "code",
   "execution_count": null,
   "id": "2580abdd",
   "metadata": {},
   "outputs": [],
   "source": []
  },
  {
   "cell_type": "code",
   "execution_count": null,
   "id": "545d9535",
   "metadata": {},
   "outputs": [],
   "source": []
  }
 ],
 "metadata": {
  "kernelspec": {
   "display_name": "Python 3 (ipykernel)",
   "language": "python",
   "name": "python3"
  },
  "language_info": {
   "codemirror_mode": {
    "name": "ipython",
    "version": 3
   },
   "file_extension": ".py",
   "mimetype": "text/x-python",
   "name": "python",
   "nbconvert_exporter": "python",
   "pygments_lexer": "ipython3",
   "version": "3.9.13"
  }
 },
 "nbformat": 4,
 "nbformat_minor": 5
}
